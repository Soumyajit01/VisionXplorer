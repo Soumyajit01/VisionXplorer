{
 "cells": [
  {
   "cell_type": "code",
   "execution_count": 8,
   "id": "84a4efdf",
   "metadata": {},
   "outputs": [
    {
     "name": "stdout",
     "output_type": "stream",
     "text": [
      "Starting navigation...\n",
      "Move 56.08 m straight ↑\n"
     ]
    }
   ],
   "source": [
    "import time\n",
    "\n",
    "def move_straight(distance):\n",
    "    print(f\"Move {distance} m straight \\u2191\")\n",
    "\n",
    "def turn_left(landmark):\n",
    "    print(f\"Now turn left at {landmark} \\u2190\")\n",
    "\n",
    "def turn_right(landmark):\n",
    "    print(f\"Now turn right at {landmark} \\u2192\")\n",
    "\n",
    "def reached_destination():\n",
    "    response = input(\"Have you reached this point? (Type 'yes' to continue): \")\n",
    "    return response.lower() in ['yes']\n",
    "\n",
    "def navigate_to_destination():\n",
    "    move_straight(56.08)\n",
    "    if reached_destination():\n",
    "        turn_left(\"Azad Bhawan Foundation\")\n",
    "    if reached_destination():\n",
    "        move_straight(330)\n",
    "    if reached_destination():\n",
    "        turn_right(\"Yash Cloth House\")\n",
    "    if reached_destination():\n",
    "        move_straight(754)\n",
    "    if reached_destination():\n",
    "        turn_right(\"Malakpur Chungi Chawk\")\n",
    "    if reached_destination():\n",
    "        move_straight(820)\n",
    "    if reached_destination():\n",
    "        print(\"Move straight 4770 m on the Haridwar Road \\u2191\")\n",
    "        if reached_destination():\n",
    "            time.sleep(1)\n",
    "            print(\"Keep moving straight 4770 m \\u2191\")\n",
    "            if reached_destination():\n",
    "                print(\"You have reached your destination.\")\n",
    "\n",
    "if __name__ == \"__main__\":\n",
    "    print(\"Starting navigation...\")\n",
    "    navigate_to_destination()\n"
   ]
  }
 ],
 "metadata": {
  "kernelspec": {
   "display_name": "Python 3 (ipykernel)",
   "language": "python",
   "name": "python3"
  },
  "language_info": {
   "codemirror_mode": {
    "name": "ipython",
    "version": 3
   },
   "file_extension": ".py",
   "mimetype": "text/x-python",
   "name": "python",
   "nbconvert_exporter": "python",
   "pygments_lexer": "ipython3",
   "version": "3.11.1"
  }
 },
 "nbformat": 4,
 "nbformat_minor": 5
}
